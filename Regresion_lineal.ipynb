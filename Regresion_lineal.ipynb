{
  "cells": [
    {
      "cell_type": "markdown",
      "metadata": {
        "id": "view-in-github",
        "colab_type": "text"
      },
      "source": [
        "<a href=\"https://colab.research.google.com/github/nataliaaortizm/Regresion_Lineal.ipynb/blob/main/Regresion_lineal.ipynb\" target=\"_parent\"><img src=\"https://colab.research.google.com/assets/colab-badge.svg\" alt=\"Open In Colab\"/></a>"
      ]
    },
    {
      "cell_type": "markdown",
      "metadata": {
        "id": "Ii_7DdtJH8e2"
      },
      "source": [
        "# Taller 3: Regresión Lineal y Conceptos Fundamentales\n",
        "\n",
        "\n"
      ],
      "id": "Ii_7DdtJH8e2"
    },
    {
      "cell_type": "markdown",
      "metadata": {
        "id": "1KuTZ6PkH8e5"
      },
      "source": [
        "## Instrucciones Generales\n",
        "\n",
        "**Fecha de entrega:** 20 de septiembre.\n",
        "**Tiempo disponible:** Tienen dos clases y el fin de semana para completar el taller.\n",
        "\n",
        "1.  **Trabajo en Grupo:** Este taller se debe realizar en los grupos previamente definidos.\n",
        "2.  **Repositorio en GitHub:** Cada grupo debe crear un repositorio en GitHub.\n",
        "    * Una sola persona del grupo es responsable de crearlo.\n",
        "    * El repositorio debe llamarse **`Regresion_Lineal`**.\n",
        "    * Este archivo debe ser subido al repositorio con el nombre **`Regresion_Lineal.ipynb`**.\n",
        "    * **Alternativa:** Si tienen complicaciones con GitHub, pueden enviar el enlace del cuaderno de Google Colab al aula virtual.\n",
        "3.  **Actividad a Mano (20% de la nota):**\n",
        "    * La asistencia a clase es **obligatoria**.\n",
        "    * Se realizará una actividad práctica de regresión lineal a mano.\n",
        "    * Cada integrante del grupo deberá firmar la hoja de la actividad, la cual constituye el 20% de la nota de este taller."
      ],
      "id": "1KuTZ6PkH8e5"
    },
    {
      "cell_type": "markdown",
      "metadata": {
        "id": "mgaEeFAbH8e7"
      },
      "source": [
        "---"
      ],
      "id": "mgaEeFAbH8e7"
    },
    {
      "cell_type": "markdown",
      "metadata": {
        "id": "et22XL5bH8e7"
      },
      "source": [
        "## **Parte 1: Definición del Problema**\n",
        "\n",
        "Piensa en tu experiencia académica o laboral en un área de operaciones y elige **un problema** relacionado con inventarios, calidad, mantenimiento o productividad.\n",
        "\n",
        "1.  Indica cuál es tu variable dependiente **$Y$** (aquello que quieres predecir o clasificar).\n",
        "2.  Lista entre 3 y 5 variables independientes **$X$** que medirías para predecir $Y$.\n",
        "3.  Especifica si tu problema es de **regresión** (predecir un valor numérico) o de **clasificación**."
      ],
      "id": "et22XL5bH8e7"
    },
    {
      "cell_type": "markdown",
      "metadata": {
        "id": "pxSLPR4AH8e8"
      },
      "source": [
        "**Respuesta (escribe aquí):**\n",
        "IMA fabrica clósets en una línea manual. Se observan variaciones importantes en el tiempo de producción por unidad y en el porcentaje de desperdicio de madera entre órdenes. La empresa desea un modelo interpretable que permita predecir el tiempo por unidad y priorizar acciones para reducir tiempos y desperdicio.\n",
        "\n",
        "**Respuesta 1:**\n",
        "Se seleccionó la variable Tiempo de Producción por unidad, como variable dependiente porque representa directamente la eficiencia del proceso productivo en la línea de clósets de la empresa IMA.\n",
        "\n",
        "**Respuesta 2:**\n",
        "Se seleccionaron estas tres variables porque representan factores críticos y directamente relacionados con la eficiencia de la producción en la línea de clósets:\n",
        "\n",
        "• Número de piezas por orden: influye en la carga de trabajo y el tiempo de preparación, lotes más grandes suelen requerir mayor tiempo total.\n",
        "\n",
        "• Velocidad de corte: determina la rapidez de procesamiento de la materia prima; una velocidad adecuada puede reducir tiempos.\n",
        "\n",
        "• Complejidad del diseño: refleja el grado de dificultad del ensamble y acabado.\n",
        "\n",
        "**Respuesta 3:**\n",
        "El problema se definió como uno de regresión porque el objetivo principal es predecir un valor numérico y continuo, que es el tiempo de producción por unidad en la línea de clósets."
      ],
      "id": "pxSLPR4AH8e8"
    },
    {
      "cell_type": "markdown",
      "metadata": {
        "id": "fGoj1KxxH8e8"
      },
      "source": [
        "---"
      ],
      "id": "fGoj1KxxH8e8"
    },
    {
      "cell_type": "markdown",
      "metadata": {
        "id": "eHOtOSQiH8e9"
      },
      "source": [
        "## **Parte 2: Preprocesamiento de Datos y *Leakage***\n",
        "\n",
        "Basado en el caso que definiste en la Parte 1:\n",
        "\n",
        "1.  Lista entre 3 y 5 **transformaciones** que aplicarías a tus datos (ej. imputación de valores faltantes, codificación de variables categóricas, escalado, creación de *lags*, etc.) y **justifica por qué** cada una es necesaria.\n",
        "2.  Señala un posible riesgo de ***data leakage*** (fuga de datos) en tu plan y explica cómo lo evitarías usando un *pipeline* de preprocesamiento."
      ],
      "id": "eHOtOSQiH8e9"
    },
    {
      "cell_type": "markdown",
      "metadata": {
        "id": "6KYkmr9mH8e9"
      },
      "source": [
        "**Respuesta (escribe aquí)**:\n",
        "\n",
        "1- Transformaciones y justificación\n",
        "\n",
        "• Manejo de datos faltantes\n",
        "\n",
        "Se eligió esta transformación porque en los registros de planta es común que falten valores en variables clave como la velocidad de corte, ya que las máquinas no siempre almacenan los datos correctamente. Si no se atienden esos faltantes, se perderían órdenes completas que sí contienen información valiosa para el modelo. Al imputar con la mediana, se conserva la mayor parte de los datos sin introducir distorsiones fuertes, garantizando un dataset más robusto para el entrenamiento.\n",
        "\n",
        "• Codificación de variables categóricas\n",
        "\n",
        "Se seleccionó esta transformación porque en el caso IMA existen variables cualitativas, como el tipo de material (MDF, aglomerado, madera maciza), que influyen directamente en el tiempo de producción y el desperdicio. Dado que la regresión lineal solo trabaja con valores numéricos.\n",
        "\n",
        "• Escalado de variables numéricas\n",
        "\n",
        "Se escogió esta transformación porque variables como el número de piezas por orden y la experiencia del operador en años o los pedidos tendría mayor peso en el modelo, minimizando la importancia de la experiencia del operador. Al estandarizar ambas variables a la misma escala, se asegura que el modelo las valore de forma equilibrada, mejorando tanto la estabilidad del entrenamiento como la interpretación de los coeficientes.\n",
        "\n",
        "2- Posibles Riesgos basados en data leakage\n",
        "\n",
        "•Un riesgo importante de data leakage en IMA surge al incluir variables que solo se conocen después de la producción, como el tiempo total de la orden o el porcentaje de desperdicio de madera.\n"
      ],
      "id": "6KYkmr9mH8e9"
    },
    {
      "cell_type": "markdown",
      "metadata": {
        "id": "hbyCKrY6H8e-"
      },
      "source": [
        "---"
      ],
      "id": "hbyCKrY6H8e-"
    },
    {
      "cell_type": "markdown",
      "metadata": {
        "id": "ukCTM2EKH8e-"
      },
      "source": [
        "## **Parte 3: Interpretación y Métricas de Regresión Simple**\n",
        "\n",
        "Para esta sección, elige un caso simple de regresión (puede ser el tuyo o uno hipotético, como predecir la demanda de un producto según su precio).\n",
        "\n",
        "1.  Define claramente las variables **$Y$** y **$X$** junto con sus **unidades** (ej. $Y$: número de unidades vendidas, $X$: precio en dólares).\n",
        "2.  Supón que entrenas un modelo y obtienes una pendiente de **$\\hat{\\beta}_1 = -0.6$**. Escribe una interpretación clara y concisa de este coeficiente en el contexto de tu problema.\n",
        "3.  ¿Qué **métrica** de evaluación usarías (MAE, RMSE, o MAPE) y **por qué** es la más adecuada para tu caso?\n",
        "4.  Menciona **un supuesto** del modelo de regresión lineal que validarías (ej. linealidad, homocedasticidad) y explica **cómo** lo harías (usando un gráfico o una prueba estadística)."
      ],
      "id": "ukCTM2EKH8e-"
    },
    {
      "cell_type": "markdown",
      "metadata": {
        "id": "5KGzW8pSH8e_"
      },
      "source": [
        "**Respuesta (escribe aquí):**\n",
        "\n",
        "1.Definición de variables\n",
        "\n",
        "• Variable dependiente (Y): Demanda de closets (unidades diarias).\n",
        "\n",
        "•Variable independiente (X): Precio del clóset (en pesos colombianos).\n",
        "\n",
        "2.Interpretación del coeficiente.\n",
        "\n",
        "La pendiente negativa β^1 = -0.6 indica que por cada aumento de $1.000 en el precio del clóset, la demanda disminuye en 0.6 unidades diarias en promedio. Esto refleja una relación inversa entre precio y demanda: cuando el precio sube, los clientes compran menos.\n",
        "\n",
        "3.Metrica de Evaluación.\n",
        "\n",
        "La métrica más adecuada es el RMSE porque los valores de la demanda son numéricos (und), ademas el RMSE penaliza más los errores grandes, lo que es útil para decisiones de producción e indica las unidades en promedio se equivoca el modelo.\n",
        "\n",
        "4.Supuesto a validar.\n",
        "\n",
        "En regresión lineal, se asume que la relación entre precio (X) y demanda (Y) es lineal. Para validarlo, se podría hacer un gráfico de dispersión entre precio y demanda para ver si los puntos se aproximan a una recta o usar una prueba estadística de bondad de ajuste para verificar si un modelo lineal describe bien la relación.\n",
        "\n",
        "En el caso del clóset, si al graficar se ve que al subir el precio la demanda cae de manera proporcional, el supuesto de linealidad estaría razonablemente cumplido.\n"
      ],
      "id": "5KGzW8pSH8e_"
    },
    {
      "cell_type": "markdown",
      "metadata": {
        "id": "NlCf92svH8e_"
      },
      "source": [
        "---"
      ],
      "id": "NlCf92svH8e_"
    },
    {
      "cell_type": "markdown",
      "metadata": {
        "id": "DEOrd_fSH8e_"
      },
      "source": [
        "## **Parte 4: Regresión Múltiple y Colinealidad**\n",
        "\n",
        "Volviendo a tu caso de la Parte 1 (con múltiples variables).\n",
        "\n",
        "1.  Escribe el **vector de variables** $\\vec{X}$ y la **respuesta** $Y$.\n",
        "Variable (X)\n",
        "•\tNúmero de piezas por orden\n",
        "•\tVelocidad de corte\n",
        "•\tComplejidad del diseño\n",
        "Variable (Y)\n",
        "•\tTiempo de producción por unidad (Min)\n",
        "\n",
        "2.  Explica cómo interpretarías el **coeficiente** de una de tus variables clave (incluyendo unidades y el sentido de la relación: positiva o negativa).\n",
        "3.  Si sospecharas que existe **colinealidad** entre tus variables, menciona **dos acciones** que podrías tomar para mitigarla."
      ],
      "id": "DEOrd_fSH8e_"
    },
    {
      "cell_type": "markdown",
      "metadata": {
        "id": "REUWPUP_H8fA"
      },
      "source": [
        "**Respuesta (escribe aquí):**\n",
        "\n",
        "1.Variable (X)\n",
        "\n",
        "•\tNúmero de piezas por orden\n",
        "\n",
        "•\tVelocidad de corte\n",
        "\n",
        "•\tComplejidad del diseño\n",
        "\n",
        "Variable (Y)\n",
        "\n",
        "•\tTiempo de producción por unidad (Min)\n",
        "\n",
        "2.Interpretación de un coeficiente.\n",
        "\n",
        "• Unidades Variable (X): Unidad, m/min, 1 a 10\n",
        "\n",
        "• Unidad Variable (Y): Minutos\n",
        "\n",
        "• Relación Negativa: mayor velocidad = menor tiempo por unidad\n",
        "\n",
        "3.Si sospechas colinealidad entre variables, dos acciones para mitigarla:\n",
        "\n",
        "•\tEliminación y combinación de variables altamente correlacionadas (Número de piezas por orden – Velocidad de corte).\n",
        "\n",
        "•\tEstandarización de componentes y el ajuste de los diseños puede reducir la complejidad y acelerar la producción. Para diseños complejos, el uso de software de diseño y fabricación asistida por ordenador (CAD/CAM)."
      ],
      "id": "REUWPUP_H8fA"
    },
    {
      "cell_type": "markdown",
      "metadata": {
        "id": "Kfz2bBkzH8fA"
      },
      "source": [
        "---"
      ],
      "id": "Kfz2bBkzH8fA"
    },
    {
      "cell_type": "markdown",
      "metadata": {
        "id": "d0sQYW3DH8fA"
      },
      "source": [
        "## **Parte 5: Interacciones y Multicolinealidad (VIF)**\n",
        "\n",
        "1.  Plantea un caso con una variable $Y$ y entre 4 y 6 variables $X$. ¿Qué término de **interacción** entre dos variables podrías añadir al modelo y **por qué** crees que sería útil?\n",
        "2.  Si al calcular el Factor de Inflación de la Varianza (VIF) para una variable, obtienes un valor alto (ej. > 10), menciona **dos acciones** que podrías tomar para solucionarlo."
      ],
      "id": "d0sQYW3DH8fA"
    },
    {
      "cell_type": "markdown",
      "metadata": {
        "id": "tEgefQ1cH8fA"
      },
      "source": [
        "**Respuesta (escribe aquí):**\n",
        "\n",
        "1 Variables.\n",
        "\n",
        "• Variable dependiente (Y): Demanda diaria .\n",
        "\n",
        "• Variables independientes (x):\n",
        "\n",
        "Precio del clóset\n",
        "\n",
        "Precio promedio del competidor\n",
        "\n",
        "Gasto en publicidad digital\n",
        "\n",
        "Número de puntos de venta\n",
        "\n",
        "• Término de interacción propuesto: Precio × Gasto en publicidad.\n",
        "\n",
        "Un término de interacción útil sería Precio × Publicidad, porque la efectividad de la publicidad depende del nivel de precio: si el precio es muy alto, las campañas pueden tener poco impacto, mientras que con precios más bajos la publicidad puede aumentar mucho más la demanda.\n",
        "\n",
        "2.Factor de Inflación de la Varianza.\n",
        "\n",
        "Dos acciones concretas y efectivas si una variable tiene VIF alto (>10):\n",
        "\n",
        "• Eliminar o combinar variables colineales: Revisa la matriz de correlación y quita una de las variables que estén muy correlacionadas o agrúpalas en un índice o usar PCA/PLS para reducir dimensión conservando la información. Esto baja la colinealidad y deja el modelo más interpretable.\n",
        "\n",
        "• Usar regularización o regresión en componentes: Aplica Ridge o PCR. Ridge reduce la varianza de los coeficientes sin eliminar variables; PCR/PLS elimina la multicolinealidad proyectando a componentes no correlacionados."
      ],
      "id": "tEgefQ1cH8fA"
    },
    {
      "cell_type": "markdown",
      "metadata": {
        "id": "8XdQIyu_H8fB"
      },
      "source": [
        "---"
      ],
      "id": "8XdQIyu_H8fB"
    },
    {
      "cell_type": "markdown",
      "metadata": {
        "id": "XKsr-uPlH8fB"
      },
      "source": [
        "## **Parte 6: Variables Categóricas e Interacciones**\n",
        "\n",
        "1.  Define una **variable categórica** para tu caso (puedes inventarla si no la tenías). Elige una de sus categorías como el nivel **base** o de referencia y **justifica** tu elección.\n",
        "2.  Crea una **interacción** entre una variable numérica y la variable categórica que definiste. Explica cómo se interpretaría el coeficiente de esta interacción."
      ],
      "id": "XKsr-uPlH8fB"
    },
    {
      "cell_type": "markdown",
      "metadata": {
        "id": "7i_JBwwbH8fC"
      },
      "source": [
        "**Respuesta (escribe aquí):**\n",
        "\n",
        "1. Variable categorica\n",
        "\n",
        "Se toma el clóset estándar como referencia porque es el producto más común y representa el nivel básico de producción en la planta. De esta manera, los coeficientes de las otras categorías (Premium y estandar) se interpretan como el cambio en el tiempo de producción por unidad respecto a fabricar un clóset estándar.\n",
        "\n",
        "2.  Interacción\n",
        "\n",
        "La interacción entre número de piezas y tipo de clóset la puse porque no es lo mismo agregar piezas a un clóset estándar que a uno personalizado. En el estándar casi no cambia el tiempo, pero en el personalizado cada pieza extra sí aumenta bastante el trabajo. Por eso el modelo necesita esa interacción para mostrar esas diferencias."
      ],
      "id": "7i_JBwwbH8fC"
    },
    {
      "cell_type": "markdown",
      "metadata": {
        "id": "DjYrQWpqH8fC"
      },
      "source": [
        "---"
      ],
      "id": "DjYrQWpqH8fC"
    },
    {
      "cell_type": "markdown",
      "metadata": {
        "id": "mG9YJpeoH8fC"
      },
      "source": [
        "## **Parte 7: Conceptos Clave de Clasificación**\n",
        "\n",
        "Aunque el taller se centra en regresión, estos conceptos son fundamentales en Machine Learning.\n",
        "\n",
        "1.  Explica qué es la **curva ROC** y para qué se utiliza en un problema de clasificación.\n",
        "2.  Define el concepto de **accuracy** (exactitud) y menciona una situación en la que podría ser una métrica engañosa.\n",
        "3.  Describe qué es una **matriz de confusión** y cómo se interpretan sus componentes (Verdaderos Positivos, Falsos Positivos, Verdaderos Negativos, Falsos Negativos)."
      ],
      "id": "mG9YJpeoH8fC"
    },
    {
      "cell_type": "markdown",
      "metadata": {
        "id": "aq-cYN3nH8fD"
      },
      "source": [
        "**Respuesta (escribe aquí):**\n",
        "\n",
        "1.Curva ROC:\n",
        "\n",
        "La curva ROC (Receiver Operating Characteristic) muestra la relación entre la tasa de verdaderos positivos (TPR o sensibilidad) y la tasa de falsos positivos (FPR) a distintos umbrales de decisión de un modelo de clasificación.\n",
        "Se utiliza para evaluar el desempeño de un clasificador comparando su capacidad de discriminar entre clases; mientras más cerca esté la curva de la esquina superior izquierda, mejor el modelo. El área bajo la curva (AUC) resume su calidad global.\n",
        "\n",
        "2.Accuracy:\n",
        "\n",
        "La accuracy mide la proporción de predicciones correctas del modelo respecto al total de casos:\n",
        "\n",
        "TP+TN / TP+TN+FP+FN\n",
        "\n",
        "Puede ser engañosa cuando las clases están desbalanceadas. Ejemplo: si solo el 5 % de clientes hace fraude, un modelo que siempre prediga “no fraude” tendría 95 % de accuracy, pero en realidad no detecta ninguno de los casos importantes.\n",
        "\n",
        "3.Matriz de Confusión\n",
        "\n",
        "Es una tabla que compara las predicciones del modelo con los valores reales:\n",
        "\n",
        "• Verdaderos Positivos (TP): casos positivos correctamente clasificados como positivos.\n",
        "\n",
        "• Falsos Positivos (FP): casos negativos clasificados erróneamente como positivos.\n",
        "\n",
        "• Verdaderos Negativos (TN): casos negativos correctamente clasificados como negativos.\n",
        "\n",
        "• Falsos Negativos (FN): casos positivos clasificados erróneamente como negativos.\n",
        "\n",
        "Esta matriz permite calcular métricas como precisión, sensibilidad, especificidad y F1-score, aportando una visión más completa que la accuracy sola."
      ],
      "id": "aq-cYN3nH8fD"
    }
  ],
  "metadata": {
    "kernelspec": {
      "display_name": "Python 3",
      "language": "python",
      "name": "python3"
    },
    "language_info": {
      "name": "python",
      "version": "3.x"
    },
    "colab": {
      "provenance": [],
      "include_colab_link": true
    }
  },
  "nbformat": 4,
  "nbformat_minor": 5
}